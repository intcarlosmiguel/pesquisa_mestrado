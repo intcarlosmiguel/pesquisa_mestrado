{
 "cells": [
  {
   "cell_type": "code",
   "execution_count": 1,
   "metadata": {},
   "outputs": [],
   "source": [
    "%load_ext autoreload\n",
    "%autoreload 2"
   ]
  },
  {
   "cell_type": "code",
   "execution_count": 121,
   "metadata": {},
   "outputs": [],
   "source": [
    "import numpy as np\n",
    "import matplotlib.pyplot as plt\n",
    "import pandas as pd\n",
    "import networkx as nx\n",
    "from bib.cleaning import *\n",
    "from bib.plot import *\n",
    "import math"
   ]
  },
  {
   "cell_type": "code",
   "execution_count": 111,
   "metadata": {},
   "outputs": [],
   "source": [
    "contatos01 = pd.read_excel('./dados/last.xlsx',sheet_name='Contatos_01')\n",
    "contatos02 = pd.read_excel('./dados/last.xlsx',sheet_name='Contatos_02')\n",
    "data = pd.read_excel('./dados/last.xlsx',sheet_name='Pessoas')\n",
    "Nmortos = generate_mortalidade()\n",
    "Faixa = [\n",
    "    [0,20],\n",
    "    [20,30],\n",
    "    [30,50],\n",
    "    [50,70],\n",
    "    [70,10000]\n",
    "]\n",
    "tempo = [2.5, 7.5,22.5,120,240]"
   ]
  },
  {
   "cell_type": "code",
   "execution_count": 112,
   "metadata": {},
   "outputs": [],
   "source": [
    "def transform_faixa(i,Faixa):\n",
    "    for j in range(len(Faixa)):\n",
    "        if(i < Faixa[j][0]):\n",
    "            return j - 1\n",
    "    return j"
   ]
  },
  {
   "cell_type": "code",
   "execution_count": 113,
   "metadata": {},
   "outputs": [],
   "source": [
    "Idade = data['Idade'].values\n",
    "Idade = np.array([transform_faixa(i,Faixa) for i in Idade])\n",
    "data['Faixa'] = Idade\n",
    "\n",
    "Idade = contatos01['idade'].values\n",
    "Idade = np.array([transform_faixa(i,Faixa) for i in Idade])\n",
    "contatos01['Faixa'] = Idade\n",
    "\n",
    "Idade = contatos02['idade'].values\n",
    "Idade = np.array([transform_faixa(i,Faixa) for i in Idade])\n",
    "contatos02['Faixa'] = Idade"
   ]
  },
  {
   "cell_type": "code",
   "execution_count": 114,
   "metadata": {},
   "outputs": [
    {
     "data": {
      "text/html": [
       "<div>\n",
       "<style scoped>\n",
       "    .dataframe tbody tr th:only-of-type {\n",
       "        vertical-align: middle;\n",
       "    }\n",
       "\n",
       "    .dataframe tbody tr th {\n",
       "        vertical-align: top;\n",
       "    }\n",
       "\n",
       "    .dataframe thead th {\n",
       "        text-align: right;\n",
       "    }\n",
       "</style>\n",
       "<table border=\"1\" class=\"dataframe\">\n",
       "  <thead>\n",
       "    <tr style=\"text-align: right;\">\n",
       "      <th></th>\n",
       "      <th>id</th>\n",
       "      <th>idade</th>\n",
       "      <th>Frequência</th>\n",
       "      <th>Pele</th>\n",
       "      <th>Duração</th>\n",
       "      <th>Faixa</th>\n",
       "    </tr>\n",
       "  </thead>\n",
       "  <tbody>\n",
       "    <tr>\n",
       "      <th>0</th>\n",
       "      <td>0</td>\n",
       "      <td>68.0</td>\n",
       "      <td>1.0</td>\n",
       "      <td>2.0</td>\n",
       "      <td>5.0</td>\n",
       "      <td>3</td>\n",
       "    </tr>\n",
       "    <tr>\n",
       "      <th>1</th>\n",
       "      <td>0</td>\n",
       "      <td>55.0</td>\n",
       "      <td>2.0</td>\n",
       "      <td>1.0</td>\n",
       "      <td>3.0</td>\n",
       "      <td>3</td>\n",
       "    </tr>\n",
       "    <tr>\n",
       "      <th>2</th>\n",
       "      <td>1</td>\n",
       "      <td>29.0</td>\n",
       "      <td>1.0</td>\n",
       "      <td>1.0</td>\n",
       "      <td>5.0</td>\n",
       "      <td>1</td>\n",
       "    </tr>\n",
       "    <tr>\n",
       "      <th>3</th>\n",
       "      <td>1</td>\n",
       "      <td>33.0</td>\n",
       "      <td>1.0</td>\n",
       "      <td>1.0</td>\n",
       "      <td>4.0</td>\n",
       "      <td>2</td>\n",
       "    </tr>\n",
       "    <tr>\n",
       "      <th>4</th>\n",
       "      <td>1</td>\n",
       "      <td>3.0</td>\n",
       "      <td>1.0</td>\n",
       "      <td>1.0</td>\n",
       "      <td>5.0</td>\n",
       "      <td>0</td>\n",
       "    </tr>\n",
       "    <tr>\n",
       "      <th>...</th>\n",
       "      <td>...</td>\n",
       "      <td>...</td>\n",
       "      <td>...</td>\n",
       "      <td>...</td>\n",
       "      <td>...</td>\n",
       "      <td>...</td>\n",
       "    </tr>\n",
       "    <tr>\n",
       "      <th>19839</th>\n",
       "      <td>2032</td>\n",
       "      <td>47.0</td>\n",
       "      <td>5.0</td>\n",
       "      <td>2.0</td>\n",
       "      <td>2.0</td>\n",
       "      <td>2</td>\n",
       "    </tr>\n",
       "    <tr>\n",
       "      <th>19840</th>\n",
       "      <td>2032</td>\n",
       "      <td>47.0</td>\n",
       "      <td>5.0</td>\n",
       "      <td>2.0</td>\n",
       "      <td>2.0</td>\n",
       "      <td>2</td>\n",
       "    </tr>\n",
       "    <tr>\n",
       "      <th>19841</th>\n",
       "      <td>2032</td>\n",
       "      <td>52.0</td>\n",
       "      <td>5.0</td>\n",
       "      <td>2.0</td>\n",
       "      <td>2.0</td>\n",
       "      <td>3</td>\n",
       "    </tr>\n",
       "    <tr>\n",
       "      <th>19842</th>\n",
       "      <td>2032</td>\n",
       "      <td>62.0</td>\n",
       "      <td>5.0</td>\n",
       "      <td>2.0</td>\n",
       "      <td>2.0</td>\n",
       "      <td>3</td>\n",
       "    </tr>\n",
       "    <tr>\n",
       "      <th>19843</th>\n",
       "      <td>2032</td>\n",
       "      <td>47.0</td>\n",
       "      <td>5.0</td>\n",
       "      <td>2.0</td>\n",
       "      <td>2.0</td>\n",
       "      <td>2</td>\n",
       "    </tr>\n",
       "  </tbody>\n",
       "</table>\n",
       "<p>19844 rows × 6 columns</p>\n",
       "</div>"
      ],
      "text/plain": [
       "         id  idade  Frequência  Pele  Duração  Faixa\n",
       "0         0   68.0         1.0   2.0      5.0      3\n",
       "1         0   55.0         2.0   1.0      3.0      3\n",
       "2         1   29.0         1.0   1.0      5.0      1\n",
       "3         1   33.0         1.0   1.0      4.0      2\n",
       "4         1    3.0         1.0   1.0      5.0      0\n",
       "...     ...    ...         ...   ...      ...    ...\n",
       "19839  2032   47.0         5.0   2.0      2.0      2\n",
       "19840  2032   47.0         5.0   2.0      2.0      2\n",
       "19841  2032   52.0         5.0   2.0      2.0      3\n",
       "19842  2032   62.0         5.0   2.0      2.0      3\n",
       "19843  2032   47.0         5.0   2.0      2.0      2\n",
       "\n",
       "[19844 rows x 6 columns]"
      ]
     },
     "execution_count": 114,
     "metadata": {},
     "output_type": "execute_result"
    }
   ],
   "source": []
  },
  {
   "cell_type": "code",
   "execution_count": 105,
   "metadata": {},
   "outputs": [],
   "source": [
    "def generate_gij(data,contatos01):\n",
    "    id_ = data['id'].values\n",
    "    faixas = data['Faixa'].values\n",
    "    g_ij = np.zeros((5,5))\n",
    "    for i,faixa in zip(id_,faixas):\n",
    "        for j in contatos01[contatos01['id'] == i]['Faixa'].values:\n",
    "            #print(i,j)\n",
    "            g_ij[faixa][j] += 1\n",
    "            g_ij[j][faixa] += 1\n",
    "    return g_ij"
   ]
  },
  {
   "cell_type": "code",
   "execution_count": 106,
   "metadata": {},
   "outputs": [],
   "source": [
    "g_ij01 = generate_gij(data,contatos01)\n",
    "g_ij02 = generate_gij(data,contatos02)\n",
    "print(g_ij01/p_i)\n",
    "print(g_ij02/p_i)"
   ]
  },
  {
   "cell_type": "code",
   "execution_count": 129,
   "metadata": {},
   "outputs": [],
   "source": [
    "def generate_tij(data,contatos01,tempo):\n",
    "    id_ = data['id'].values\n",
    "    faixas = data['Faixa'].values\n",
    "    t_ij = np.zeros((5,5))\n",
    "    sigma_ij = np.zeros((5,5))\n",
    "    for i,faixa in zip(id_,faixas):\n",
    "        df = contatos01[contatos01['id'] == i]\n",
    "        for j,t in zip(df['Faixa'].values,df['Duração'].values):\n",
    "            #print(i,j)\n",
    "            if(not math.isnan(t)):\n",
    "                t_ij[faixa][j] += tempo[int(t)-1]\n",
    "                t_ij[j][faixa] += tempo[int(t)-1]\n",
    "                sigma_ij[faixa][j] += tempo[int(t)-1]**2\n",
    "                sigma_ij[j][faixa] += tempo[int(t)-1]**2\n",
    "    return t_ij,sigma_ij"
   ]
  },
  {
   "cell_type": "code",
   "execution_count": 140,
   "metadata": {},
   "outputs": [],
   "source": [
    "t_ij,sigma_ij = generate_tij(data,contatos01,tempo)"
   ]
  },
  {
   "cell_type": "code",
   "execution_count": 141,
   "metadata": {},
   "outputs": [
    {
     "data": {
      "text/plain": [
       "(array([[1122.62237762,  500.0443787 , 1469.15584416,  231.17941712,\n",
       "          121.68141593],\n",
       "        [  98.49358974,  775.35502959,  231.51515152,   74.90892532,\n",
       "           45.21017699],\n",
       "        [ 395.54195804,  316.44970414,  500.23809524,  167.21311475,\n",
       "           87.95353982],\n",
       "        [ 147.92249417,  243.34319527,  397.4025974 ,  455.29143898,\n",
       "          248.3960177 ],\n",
       "        [  32.05128205,   60.45857988,   86.04978355,  102.25409836,\n",
       "          305.28761062]]),\n",
       " array([[1.89702225e+08, 1.58491812e+07, 6.83958750e+07, 2.36347938e+07,\n",
       "         5.06067500e+06],\n",
       "        [1.58491812e+07, 2.49464125e+07, 9.39548750e+06, 6.77470000e+06,\n",
       "         1.87204375e+06],\n",
       "        [6.83958750e+07, 9.39548750e+06, 2.07414625e+07, 1.39932375e+07,\n",
       "         2.76004375e+06],\n",
       "        [2.36347938e+07, 6.77470000e+06, 1.39932375e+07, 4.48514875e+07,\n",
       "         9.34891875e+06],\n",
       "        [5.06067500e+06, 1.87204375e+06, 2.76004375e+06, 9.34891875e+06,\n",
       "         1.33442125e+07]]))"
      ]
     },
     "execution_count": 141,
     "metadata": {},
     "output_type": "execute_result"
    }
   ],
   "source": [
    "t_ij/p_i,sigma_ij"
   ]
  },
  {
   "cell_type": "code",
   "execution_count": 69,
   "metadata": {},
   "outputs": [],
   "source": [
    "Idade = data['Idade'].values\n",
    "Idade = np.array([transform_faixa(i,Faixa) for i in Idade])\n",
    "data['Faixa'] = Idade\n",
    "_, p_i = np.unique(Idade,return_counts = True)"
   ]
  },
  {
   "cell_type": "code",
   "execution_count": 35,
   "metadata": {},
   "outputs": [],
   "source": [
    "p_i = p_i/np.sum(p_i)"
   ]
  },
  {
   "cell_type": "code",
   "execution_count": 70,
   "metadata": {},
   "outputs": [
    {
     "data": {
      "text/plain": [
       "array([858, 169, 231, 549, 226])"
      ]
     },
     "execution_count": 70,
     "metadata": {},
     "output_type": "execute_result"
    }
   ],
   "source": [
    "p_i"
   ]
  },
  {
   "cell_type": "code",
   "execution_count": 100,
   "metadata": {},
   "outputs": [
    {
     "data": {
      "text/plain": [
       "1.0745920745920745"
      ]
     },
     "execution_count": 100,
     "metadata": {},
     "output_type": "execute_result"
    }
   ],
   "source": [
    "922/858"
   ]
  },
  {
   "cell_type": "code",
   "execution_count": null,
   "metadata": {},
   "outputs": [],
   "source": []
  }
 ],
 "metadata": {
  "kernelspec": {
   "display_name": "Python 3",
   "language": "python",
   "name": "python3"
  },
  "language_info": {
   "codemirror_mode": {
    "name": "ipython",
    "version": 3
   },
   "file_extension": ".py",
   "mimetype": "text/x-python",
   "name": "python",
   "nbconvert_exporter": "python",
   "pygments_lexer": "ipython3",
   "version": "3.10.6"
  },
  "orig_nbformat": 4,
  "vscode": {
   "interpreter": {
    "hash": "916dbcbb3f70747c44a77c7bcd40155683ae19c65e1c03b4aa3499c5328201f1"
   }
  }
 },
 "nbformat": 4,
 "nbformat_minor": 2
}
