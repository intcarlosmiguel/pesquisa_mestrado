{
 "cells": [
  {
   "cell_type": "code",
   "execution_count": 1,
   "metadata": {},
   "outputs": [],
   "source": [
    "%load_ext autoreload\n",
    "%autoreload 2"
   ]
  },
  {
   "cell_type": "code",
   "execution_count": 2,
   "metadata": {},
   "outputs": [],
   "source": [
    "import numpy as np\n",
    "import matplotlib.pyplot as plt\n",
    "import pandas as pd\n",
    "import networkx as nx\n",
    "from bib.cleaning import *\n",
    "from bib.plot import *\n",
    "import math"
   ]
  },
  {
   "cell_type": "code",
   "execution_count": 3,
   "metadata": {},
   "outputs": [],
   "source": [
    "contatos01 = pd.read_excel('./dados/last.xlsx',sheet_name='Contatos_01')\n",
    "contatos02 = pd.read_excel('./dados/last.xlsx',sheet_name='Contatos_02')\n",
    "data = pd.read_excel('./dados/last.xlsx',sheet_name='Pessoas')\n",
    "Nmortos = generate_mortalidade()\n",
    "Faixa = [\n",
    "    [0,20],\n",
    "    [20,30],\n",
    "    [30,50],\n",
    "    [50,70],\n",
    "    [70,10000]\n",
    "]\n",
    "tempo = [2.5, 7.5,22.5,120,240]"
   ]
  },
  {
   "cell_type": "code",
   "execution_count": 7,
   "metadata": {},
   "outputs": [],
   "source": [
    "degree = (data['#Contatos01'].values + data['#Contatos02'].values)/2\n",
    "degree = np.ceil(degree).astype(int)"
   ]
  },
  {
   "cell_type": "code",
   "execution_count": 4,
   "metadata": {},
   "outputs": [],
   "source": [
    "def transform_faixa(i,Faixa):\n",
    "    for j in range(len(Faixa)):\n",
    "        if(i < Faixa[j][0]):\n",
    "            return j - 1\n",
    "    return j"
   ]
  },
  {
   "cell_type": "code",
   "execution_count": 5,
   "metadata": {},
   "outputs": [],
   "source": [
    "Idade = data['Idade'].values\n",
    "Idade = np.array([transform_faixa(i,Faixa) for i in Idade])\n",
    "data['Faixa'] = Idade\n",
    "\n",
    "Idade = contatos01['idade'].values\n",
    "Idade = np.array([transform_faixa(i,Faixa) for i in Idade])\n",
    "contatos01['Faixa'] = Idade\n",
    "\n",
    "Idade = contatos02['idade'].values\n",
    "Idade = np.array([transform_faixa(i,Faixa) for i in Idade])\n",
    "contatos02['Faixa'] = Idade"
   ]
  },
  {
   "cell_type": "code",
   "execution_count": 8,
   "metadata": {},
   "outputs": [],
   "source": [
    "faixa = data['Faixa'].values[degree > 0]\n",
    "np.savetxt('./C/dados/faixas.txt',faixa,fmt = '%d')"
   ]
  },
  {
   "cell_type": "code",
   "execution_count": 6,
   "metadata": {},
   "outputs": [],
   "source": [
    "Idades = list(data['Idade'].values) + list(contatos01['idade'].values) + list(contatos02['idade'].values)"
   ]
  },
  {
   "cell_type": "code",
   "execution_count": 10,
   "metadata": {},
   "outputs": [],
   "source": [
    "Idades = [i for i in Idades if(not math.isnan(i))]"
   ]
  },
  {
   "cell_type": "code",
   "execution_count": 32,
   "metadata": {},
   "outputs": [],
   "source": [
    "y,x = np.histogram(np.array(Idades),bins = 20)"
   ]
  },
  {
   "cell_type": "code",
   "execution_count": 35,
   "metadata": {},
   "outputs": [
    {
     "data": {
      "image/png": "[encoded data removed]",
      "text/plain": [
       "<Figure size 640x480 with 1 Axes>"
      ]
     },
     "metadata": {},
     "output_type": "display_data"
    }
   ],
   "source": [
    "plt.bar(x[1:],y)\n",
    "plt.show()"
   ]
  },
  {
   "cell_type": "code",
   "execution_count": 33,
   "metadata": {},
   "outputs": [
    {
     "data": {
      "text/plain": [
       "array([ 0.  ,  4.95,  9.9 , 14.85, 19.8 , 24.75, 29.7 , 34.65, 39.6 ,\n",
       "       44.55, 49.5 , 54.45, 59.4 , 64.35, 69.3 , 74.25, 79.2 , 84.15,\n",
       "       89.1 , 94.05, 99.  ])"
      ]
     },
     "execution_count": 33,
     "metadata": {},
     "output_type": "execute_result"
    }
   ],
   "source": [
    "x"
   ]
  },
  {
   "cell_type": "code",
   "execution_count": 12,
   "metadata": {},
   "outputs": [],
   "source": [
    "df = {i:[0]*5 for i in range(2033)}\n",
    "df2 = {i:[0]*5 for i in range(2033)}"
   ]
  },
  {
   "cell_type": "code",
   "execution_count": 13,
   "metadata": {},
   "outputs": [],
   "source": [
    "for i in data['id']:\n",
    "    faixas = contatos01[contatos01['id'] == i]['Faixa'].values\n",
    "    for faixa in faixas:\n",
    "        df[i][faixa] += 1\n",
    "for i in data['id']:\n",
    "    faixas = contatos02[contatos02['id'] == i]['Faixa'].values\n",
    "    for faixa in faixas:\n",
    "        df2[i][faixa] += 1"
   ]
  },
  {
   "cell_type": "code",
   "execution_count": 14,
   "metadata": {},
   "outputs": [],
   "source": [
    "a = []\n",
    "for i in df:\n",
    "    a.append(df[i])\n",
    "a = np.array(a)\n",
    "b = []\n",
    "for i in df:\n",
    "    b.append(df[i])\n",
    "\n",
    "b = np.array(b)\n",
    "a = (a+b)/2\n",
    "a = np.ceil(a).astype(int)\n",
    "soma = np.argsort(np.sum(a,axis = 1))[::-1]\n",
    "a = a[soma]\n",
    "Faixas = data['Faixa'].values[soma]\n",
    "Faixas = Faixas[~np.all(a == 0, axis=1)]\n",
    "a = a[~np.all(a == 0, axis=1)]\n"
   ]
  },
  {
   "cell_type": "code",
   "execution_count": 6,
   "metadata": {},
   "outputs": [
    {
     "data": {
      "text/plain": [
       "(array([0, 1, 2, 3, 4]), array([858, 169, 231, 549, 226]))"
      ]
     },
     "execution_count": 6,
     "metadata": {},
     "output_type": "execute_result"
    }
   ],
   "source": [
    "np.unique(data['Faixa'],return_counts = True)"
   ]
  },
  {
   "cell_type": "code",
   "execution_count": 18,
   "metadata": {},
   "outputs": [],
   "source": [
    "np.savetxt('./C/degrees.txt',a,fmt = \"%d\",delimiter='\\t')"
   ]
  },
  {
   "cell_type": "code",
   "execution_count": 20,
   "metadata": {},
   "outputs": [],
   "source": [
    "np.savetxt('./C/faixas.txt',Faixas,fmt = \"%d\")"
   ]
  },
  {
   "cell_type": "code",
   "execution_count": 9,
   "metadata": {},
   "outputs": [],
   "source": [
    "def generate_gij(data,contatos01):\n",
    "    id_ = data['id'].values\n",
    "    faixas = data['Faixa'].values\n",
    "    g_ij = np.zeros((5,5))\n",
    "    for i,faixa in zip(id_,faixas):\n",
    "        for j in contatos01[contatos01['id'] == i]['Faixa'].values:\n",
    "            #print(i,j)\n",
    "            g_ij[faixa][j] += 1\n",
    "            #g_ij[j][faixa] += 1\n",
    "    return g_ij"
   ]
  },
  {
   "cell_type": "code",
   "execution_count": 10,
   "metadata": {},
   "outputs": [],
   "source": [
    "g_ij01 = generate_gij(data,contatos01)\n",
    "g_ij02 = generate_gij(data,contatos02)"
   ]
  },
  {
   "cell_type": "code",
   "execution_count": 13,
   "metadata": {},
   "outputs": [],
   "source": [
    "def generate_triangular(g_ij01):\n",
    "    for i in range(len(g_ij01)):\n",
    "        for j in range(len(g_ij01)):\n",
    "            if(i<j):\n",
    "                g_ij01[i][j] += g_ij01[j][i]\n",
    "                g_ij01[i][j] = g_ij01[i][j]/2\n",
    "            if(i == j):\n",
    "                g_ij01[i][j] = g_ij01[i][j]/2\n",
    "    for i in range(len(g_ij01)):\n",
    "        for j in range(len(g_ij01)):\n",
    "            if(i>j):\n",
    "                g_ij01[i][j] = 0\n",
    "    return g_ij01"
   ]
  },
  {
   "cell_type": "code",
   "execution_count": 22,
   "metadata": {},
   "outputs": [
    {
     "data": {
      "text/plain": [
       "array([[2166.5,  461. , 1550.5,  711. ,  161. ],\n",
       "       [   0. ,  333.5,  466.5,  385. ,   96. ],\n",
       "       [   0. ,    0. ,  564.5, 1127.5,  311.5],\n",
       "       [   0. ,    0. ,    0. ,  895. ,  495.5],\n",
       "       [   0. ,    0. ,    0. ,    0. ,  197. ]])"
      ]
     },
     "execution_count": 22,
     "metadata": {},
     "output_type": "execute_result"
    }
   ],
   "source": [
    "g_ij01"
   ]
  },
  {
   "cell_type": "code",
   "execution_count": 14,
   "metadata": {},
   "outputs": [],
   "source": [
    "g_ij01 = generate_triangular(g_ij01)\n",
    "g_ij02 = generate_triangular(g_ij02)"
   ]
  },
  {
   "cell_type": "code",
   "execution_count": 25,
   "metadata": {},
   "outputs": [
    {
     "data": {
      "text/plain": [
       "9922.0"
      ]
     },
     "execution_count": 25,
     "metadata": {},
     "output_type": "execute_result"
    }
   ],
   "source": [
    "np.sum(g_ij01)"
   ]
  },
  {
   "cell_type": "code",
   "execution_count": 18,
   "metadata": {},
   "outputs": [
    {
     "data": {
      "text/plain": [
       "9864.0"
      ]
     },
     "execution_count": 18,
     "metadata": {},
     "output_type": "execute_result"
    }
   ],
   "source": [
    "np.sum(degree)/2"
   ]
  },
  {
   "cell_type": "code",
   "execution_count": 23,
   "metadata": {},
   "outputs": [],
   "source": [
    "g_ij = np.ceil((np.ceil(g_ij01)+np.ceil(g_ij02))*0.5)"
   ]
  },
  {
   "cell_type": "code",
   "execution_count": 24,
   "metadata": {},
   "outputs": [
    {
     "data": {
      "text/plain": [
       "9501.0"
      ]
     },
     "execution_count": 24,
     "metadata": {},
     "output_type": "execute_result"
    }
   ],
   "source": [
    "np.sum(g_ij)"
   ]
  },
  {
   "cell_type": "code",
   "execution_count": 129,
   "metadata": {},
   "outputs": [],
   "source": [
    "def generate_tij(data,contatos01,tempo):\n",
    "    id_ = data['id'].values\n",
    "    faixas = data['Faixa'].values\n",
    "    t_ij = np.zeros((5,5))\n",
    "    sigma_ij = np.zeros((5,5))\n",
    "    for i,faixa in zip(id_,faixas):\n",
    "        df = contatos01[contatos01['id'] == i]\n",
    "        for j,t in zip(df['Faixa'].values,df['Duração'].values):\n",
    "            #print(i,j)\n",
    "            if(not math.isnan(t)):\n",
    "                t_ij[faixa][j] += tempo[int(t)-1]\n",
    "                t_ij[j][faixa] += tempo[int(t)-1]\n",
    "                sigma_ij[faixa][j] += tempo[int(t)-1]**2\n",
    "                sigma_ij[j][faixa] += tempo[int(t)-1]**2\n",
    "    return t_ij,sigma_ij"
   ]
  },
  {
   "cell_type": "code",
   "execution_count": 140,
   "metadata": {},
   "outputs": [],
   "source": [
    "t_ij,sigma_ij = generate_tij(data,contatos01,tempo)"
   ]
  },
  {
   "cell_type": "code",
   "execution_count": 141,
   "metadata": {},
   "outputs": [
    {
     "data": {
      "text/plain": [
       "(array([[1122.62237762,  500.0443787 , 1469.15584416,  231.17941712,\n",
       "          121.68141593],\n",
       "        [  98.49358974,  775.35502959,  231.51515152,   74.90892532,\n",
       "           45.21017699],\n",
       "        [ 395.54195804,  316.44970414,  500.23809524,  167.21311475,\n",
       "           87.95353982],\n",
       "        [ 147.92249417,  243.34319527,  397.4025974 ,  455.29143898,\n",
       "          248.3960177 ],\n",
       "        [  32.05128205,   60.45857988,   86.04978355,  102.25409836,\n",
       "          305.28761062]]),\n",
       " array([[1.89702225e+08, 1.58491812e+07, 6.83958750e+07, 2.36347938e+07,\n",
       "         5.06067500e+06],\n",
       "        [1.58491812e+07, 2.49464125e+07, 9.39548750e+06, 6.77470000e+06,\n",
       "         1.87204375e+06],\n",
       "        [6.83958750e+07, 9.39548750e+06, 2.07414625e+07, 1.39932375e+07,\n",
       "         2.76004375e+06],\n",
       "        [2.36347938e+07, 6.77470000e+06, 1.39932375e+07, 4.48514875e+07,\n",
       "         9.34891875e+06],\n",
       "        [5.06067500e+06, 1.87204375e+06, 2.76004375e+06, 9.34891875e+06,\n",
       "         1.33442125e+07]]))"
      ]
     },
     "execution_count": 141,
     "metadata": {},
     "output_type": "execute_result"
    }
   ],
   "source": [
    "t_ij/p_i,sigma_ij"
   ]
  },
  {
   "cell_type": "code",
   "execution_count": 69,
   "metadata": {},
   "outputs": [],
   "source": [
    "Idade = data['Idade'].values\n",
    "Idade = np.array([transform_faixa(i,Faixa) for i in Idade])\n",
    "data['Faixa'] = Idade\n",
    "_, p_i = np.unique(Idade,return_counts = True)"
   ]
  },
  {
   "cell_type": "code",
   "execution_count": 35,
   "metadata": {},
   "outputs": [],
   "source": [
    "p_i = p_i/np.sum(p_i)"
   ]
  },
  {
   "cell_type": "code",
   "execution_count": 58,
   "metadata": {},
   "outputs": [],
   "source": [
    "g_ij01 = (g_ij01+g_ij02)/2"
   ]
  },
  {
   "cell_type": "code",
   "execution_count": 59,
   "metadata": {},
   "outputs": [
    {
     "data": {
      "text/plain": [
       "array([[8824. ,  898.5, 2961.5, 1336. ,  321.5],\n",
       "       [ 898.5, 1271. ,  865.5,  750.5,  167.5],\n",
       "       [2961.5,  865.5, 2152. , 2099. ,  543.5],\n",
       "       [1336. ,  750.5, 2099. , 3308. ,  913.5],\n",
       "       [ 321.5,  167.5,  543.5,  913.5,  712. ]])"
      ]
     },
     "execution_count": 59,
     "metadata": {},
     "output_type": "execute_result"
    }
   ],
   "source": [
    "g_ij01"
   ]
  },
  {
   "cell_type": "code",
   "execution_count": 50,
   "metadata": {},
   "outputs": [],
   "source": [
    "g_ij = np.zeros((len(g_ij01),len(g_ij01)))\n",
    "for i in range(len(g_ij01)):\n",
    "    g_ij[i][i:] = g_ij01[i][i:]/np.sum(g_ij01[i])"
   ]
  },
  {
   "cell_type": "code",
   "execution_count": 51,
   "metadata": {},
   "outputs": [],
   "source": [
    "g_ij = g_ij/np.sum(g_ij)"
   ]
  },
  {
   "cell_type": "code",
   "execution_count": 52,
   "metadata": {},
   "outputs": [],
   "source": [
    "W = np.maximum( g_ij, g_ij.transpose() )"
   ]
  },
  {
   "cell_type": "code",
   "execution_count": null,
   "metadata": {},
   "outputs": [],
   "source": [
    "np.savetxt(\"./C/SBM/probability.txt\",W, fmt='%f')"
   ]
  },
  {
   "cell_type": "code",
   "execution_count": 53,
   "metadata": {},
   "outputs": [],
   "source": [
    "W = np.ceil((np.sum(degree)/2)*W)"
   ]
  },
  {
   "cell_type": "code",
   "execution_count": 54,
   "metadata": {},
   "outputs": [
    {
     "data": {
      "text/plain": [
       "1.4047039740470397"
      ]
     },
     "execution_count": 54,
     "metadata": {},
     "output_type": "execute_result"
    }
   ],
   "source": [
    "np.sum(W)/(np.sum(degree)/2)"
   ]
  },
  {
   "cell_type": "code",
   "execution_count": 26,
   "metadata": {},
   "outputs": [],
   "source": [
    "np.savetxt(\"./C/dados/ligacoes.txt\",g_ij, fmt='%d')"
   ]
  },
  {
   "cell_type": "code",
   "execution_count": 76,
   "metadata": {},
   "outputs": [
    {
     "ename": "ValueError",
     "evalue": "diag requires an array of at least two dimensions",
     "output_type": "error",
     "traceback": [
      "\u001b[0;31m---------------------------------------------------------------------------\u001b[0m",
      "\u001b[0;31mValueError\u001b[0m                                Traceback (most recent call last)",
      "Cell \u001b[0;32mIn[76], line 1\u001b[0m\n\u001b[0;32m----> 1\u001b[0m np\u001b[39m.\u001b[39;49mtrace(g_ij02[\u001b[39m0\u001b[39;49m])\u001b[39m/\u001b[39m\u001b[39m2\u001b[39m,np\u001b[39m.\u001b[39msum(degree)\u001b[39m/\u001b[39m\u001b[39m2\u001b[39m\n",
      "File \u001b[0;32m<__array_function__ internals>:200\u001b[0m, in \u001b[0;36mtrace\u001b[0;34m(*args, **kwargs)\u001b[0m\n",
      "File \u001b[0;32m~/.local/lib/python3.10/site-packages/numpy/core/fromnumeric.py:1774\u001b[0m, in \u001b[0;36mtrace\u001b[0;34m(a, offset, axis1, axis2, dtype, out)\u001b[0m\n\u001b[1;32m   1772\u001b[0m     \u001b[39mreturn\u001b[39;00m asarray(a)\u001b[39m.\u001b[39mtrace(offset\u001b[39m=\u001b[39moffset, axis1\u001b[39m=\u001b[39maxis1, axis2\u001b[39m=\u001b[39maxis2, dtype\u001b[39m=\u001b[39mdtype, out\u001b[39m=\u001b[39mout)\n\u001b[1;32m   1773\u001b[0m \u001b[39melse\u001b[39;00m:\n\u001b[0;32m-> 1774\u001b[0m     \u001b[39mreturn\u001b[39;00m asanyarray(a)\u001b[39m.\u001b[39;49mtrace(offset\u001b[39m=\u001b[39;49moffset, axis1\u001b[39m=\u001b[39;49maxis1, axis2\u001b[39m=\u001b[39;49maxis2, dtype\u001b[39m=\u001b[39;49mdtype, out\u001b[39m=\u001b[39;49mout)\n",
      "\u001b[0;31mValueError\u001b[0m: diag requires an array of at least two dimensions"
     ]
    }
   ],
   "source": [
    "np.trace(g_ij02[0])/2,np.sum(degree)/2"
   ]
  },
  {
   "cell_type": "code",
   "execution_count": 80,
   "metadata": {},
   "outputs": [
    {
     "data": {
      "text/plain": [
       "array([14433.,  4151.,  9170.,  9018.,  2916.])"
      ]
     },
     "execution_count": 80,
     "metadata": {},
     "output_type": "execute_result"
    }
   ],
   "source": [
    "np.sum(g_ij01,axis = 1)"
   ]
  },
  {
   "cell_type": "code",
   "execution_count": 49,
   "metadata": {},
   "outputs": [],
   "source": [
    "for i in range(len(g_ij)):\n",
    "    g_ij[i] = g_ij[i]/np.sum(g_ij[i])"
   ]
  },
  {
   "cell_type": "code",
   "execution_count": 50,
   "metadata": {},
   "outputs": [
    {
     "data": {
      "text/plain": [
       "array([[0.61527734, 0.06265035, 0.20649862, 0.09315622, 0.02241746],\n",
       "       [0.22729572, 0.32152795, 0.21894763, 0.18985581, 0.04237288],\n",
       "       [0.34350171, 0.10038856, 0.24960854, 0.24346111, 0.06304007],\n",
       "       [0.15891519, 0.08927085, 0.24967289, 0.39348162, 0.10865945],\n",
       "       [0.12095561, 0.06301731, 0.20447705, 0.34367946, 0.26787058]])"
      ]
     },
     "execution_count": 50,
     "metadata": {},
     "output_type": "execute_result"
    }
   ],
   "source": [
    "g_ij"
   ]
  },
  {
   "cell_type": "code",
   "execution_count": 54,
   "metadata": {},
   "outputs": [
    {
     "data": {
      "text/plain": [
       "(array([ 2,  5, 11, ..., 10,  9, 14]), array([2, 0, 0, ..., 1, 0, 0]))"
      ]
     },
     "execution_count": 54,
     "metadata": {},
     "output_type": "execute_result"
    }
   ],
   "source": [
    "degree,data['Faixa'].values"
   ]
  },
  {
   "cell_type": "code",
   "execution_count": 57,
   "metadata": {},
   "outputs": [],
   "source": [
    "a = np.ceil([degree[j]*g_ij[i] for i,j in zip(data['Faixa'].values,data['id'].values)])"
   ]
  },
  {
   "cell_type": "code",
   "execution_count": 61,
   "metadata": {},
   "outputs": [
    {
     "data": {
      "text/plain": [
       "array([[1., 1., 1., 1., 1.],\n",
       "       [4., 1., 2., 1., 1.],\n",
       "       [7., 1., 3., 2., 1.],\n",
       "       ...,\n",
       "       [3., 4., 3., 2., 1.],\n",
       "       [6., 1., 2., 1., 1.],\n",
       "       [9., 1., 3., 2., 1.]])"
      ]
     },
     "execution_count": 61,
     "metadata": {},
     "output_type": "execute_result"
    }
   ],
   "source": [
    "np.ceil(a)[degree > 0]"
   ]
  },
  {
   "cell_type": "code",
   "execution_count": 60,
   "metadata": {},
   "outputs": [
    {
     "data": {
      "text/plain": [
       "array([ 2,  5, 11, ..., 10,  9, 14])"
      ]
     },
     "execution_count": 60,
     "metadata": {},
     "output_type": "execute_result"
    }
   ],
   "source": []
  },
  {
   "cell_type": "code",
   "execution_count": null,
   "metadata": {},
   "outputs": [],
   "source": []
  }
 ],
 "metadata": {
  "kernelspec": {
   "display_name": "Python 3",
   "language": "python",
   "name": "python3"
  },
  "language_info": {
   "codemirror_mode": {
    "name": "ipython",
    "version": 3
   },
   "file_extension": ".py",
   "mimetype": "text/x-python",
   "name": "python",
   "nbconvert_exporter": "python",
   "pygments_lexer": "ipython3",
   "version": "3.10.6"
  },
  "orig_nbformat": 4,
  "vscode": {
   "interpreter": {
    "hash": "916dbcbb3f70747c44a77c7bcd40155683ae19c65e1c03b4aa3499c5328201f1"
   }
  }
 },
 "nbformat": 4,
 "nbformat_minor": 2
}
