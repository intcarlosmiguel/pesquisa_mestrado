{
 "cells": [
  {
   "cell_type": "code",
   "execution_count": 36,
   "metadata": {},
   "outputs": [
    {
     "name": "stderr",
     "output_type": "stream",
     "text": [
      "\u001b[32m\u001b[1m   Resolving\u001b[22m\u001b[39m package versions...\n"
     ]
    },
    {
     "name": "stderr",
     "output_type": "stream",
     "text": [
      "\u001b[32m\u001b[1m   Installed\u001b[22m\u001b[39m ArnoldiMethod ─ v0.1.0\n"
     ]
    },
    {
     "name": "stderr",
     "output_type": "stream",
     "text": [
      "\u001b[32m\u001b[1m   Installed\u001b[22m\u001b[39m LightGraphs ─── v1.3.5\n"
     ]
    },
    {
     "name": "stderr",
     "output_type": "stream",
     "text": [
      "\u001b[32m\u001b[1m    Updating\u001b[22m\u001b[39m `~/.julia/environments/v1.8/Project.toml`\n",
      " \u001b[90m [093fc24a] \u001b[39m\u001b[92m+ LightGraphs v1.3.5\u001b[39m\n",
      "\u001b[32m\u001b[1m    Updating\u001b[22m\u001b[39m `~/.julia/environments/v1.8/Manifest.toml`\n"
     ]
    },
    {
     "name": "stderr",
     "output_type": "stream",
     "text": [
      "\u001b[33m⌅\u001b[39m\u001b[90m [ec485272] \u001b[39m\u001b[95m↓ ArnoldiMethod v0.2.0 ⇒ v0.1.0\u001b[39m\n",
      " \u001b[90m [093fc24a] \u001b[39m\u001b[92m+ LightGraphs v1.3.5\u001b[39m\n",
      "\u001b[36m\u001b[1m        Info\u001b[22m\u001b[39m Packages marked with \u001b[33m⌅\u001b[39m have new versions available but compatibility constraints restrict them from upgrading. To see why use `status --outdated -m`\n"
     ]
    },
    {
     "name": "stderr",
     "output_type": "stream",
     "text": [
      "\u001b[32m\u001b[1mPrecompiling\u001b[22m\u001b[39m "
     ]
    },
    {
     "name": "stderr",
     "output_type": "stream",
     "text": [
      "project...\n"
     ]
    },
    {
     "name": "stderr",
     "output_type": "stream",
     "text": [
      "\u001b[32m  ✓ \u001b[39m\u001b[90mArnoldiMethod\u001b[39m\n"
     ]
    },
    {
     "name": "stderr",
     "output_type": "stream",
     "text": [
      "\u001b[32m  ✓ \u001b[39mLightGraphs\n"
     ]
    },
    {
     "name": "stderr",
     "output_type": "stream",
     "text": [
      "\u001b[32m  ✓ \u001b[39m\u001b[90mGraphs\u001b[39m\n"
     ]
    },
    {
     "name": "stderr",
     "output_type": "stream",
     "text": [
      "\u001b[32m  ✓ \u001b[39mGraphPlot\n",
      "  4 dependencies successfully precompiled in 19 seconds. 160 already precompiled.\n"
     ]
    }
   ],
   "source": [
    "\n",
    "using Pkg\n",
    "#Pkg.add(\"DataFrames\")\n",
    "#Pkg.add(\"XLSX\")\n",
    "#Pkg.add(\"JSON\")\n",
    "#Pkg.add(\"GraphPlot\")\n",
    "#Pkg.add(\"LightGraphs\")"
   ]
  },
  {
   "cell_type": "code",
   "execution_count": 37,
   "metadata": {},
   "outputs": [],
   "source": [
    "using XLSX,DataFrames,JSON\n",
    "using LightGraphs,GraphPlot"
   ]
  },
  {
   "cell_type": "code",
   "execution_count": 34,
   "metadata": {},
   "outputs": [
    {
     "data": {
      "text/plain": [
       "Dict{String, Any} with 2033 entries:\n",
       "  \"1\"    => Any[Any[49.0, NaN, 49.0, 1.0, Any[1.0, 0.0, 0.0, 0.0, 0.0, 0.0, 0.0…\n",
       "  \"519\"  => Any[Any[20.0, 25.0, 22.0, 1.0, Any[1.0, 0.0, 0.0, 0.0, 0.0, 0.0, 0.…\n",
       "  \"c395\" => Any[Any[32.0, NaN, 32.0, 1.0, Any[1.0, 0.0, 0.0, 0.0, 0.0, 0.0, 0.0…\n",
       "  \"788\"  => Any[Any[25.0, 35.0, 30.0, 1.0, Any[1.0, 0.0, 0.0, 0.0, 0.0, 0.0, 0.…\n",
       "  \"c432\" => Any[Any[11.0, NaN, 11.0, 1.0, Any[1.0, 0.0, 0.0, 0.0, 0.0, 0.0, 0.0…\n",
       "  \"1164\" => Any[Any[35.0, NaN, 35.0, 2.0, Any[1.0, 0.0, 0.0, 0.0, 0.0, 0.0, 0.0…\n",
       "  \"c466\" => Any[Any[33.0, NaN, 33.0, 1.0, Any[1.0, 0.0, 0.0, 0.0, 0.0, 0.0, 0.0…\n",
       "  \"c513\" => Any[Any[10.0, NaN, 10.0, 2.0, Any[1.0, 0.0, 0.0, 0.0, 0.0, 0.0, 0.0…\n",
       "  \"774\"  => Any[Any[65.0, NaN, 65.0, 2.0, Any[1.0, 0.0, 0.0, 0.0, 0.0, 0.0, 0.0…\n",
       "  \"c511\" => Any[Any[38.0, NaN, 38.0, 1.0, Any[1.0, 0.0, 0.0, 0.0, 0.0, 0.0, 0.0…\n",
       "  \"599\"  => Any[Any[78.0, NaN, 78.0, 1.0, Any[1.0, 0.0, 0.0, 0.0, 0.0, 0.0, 0.0…\n",
       "  \"491\"  => Any[Any[55.0, 60.0, 57.0, 1.0, Any[1.0, 0.0, 0.0, 0.0, 0.0, 0.0, 0.…\n",
       "  \"1195\" => Any[Any[2.0, NaN, 2.0, 2.0, Any[1.0, 0.0, 0.0, 0.0, 0.0, 0.0, 0.0],…\n",
       "  \"c653\" => Any[Any[40.0, NaN, 40.0, 1.0, Any[1.0, 0.0, 0.0, 0.0, 0.0, 0.0, 0.0…\n",
       "  \"c58\"  => Any[Any[51.0, NaN, 51.0, 2.0, Any[1.0, 0.0, 0.0, 0.0, 0.0, 0.0, 0.0…\n",
       "  \"228\"  => Any[Any[23.0, NaN, 23.0, 2.0, Any[1.0, 0.0, 0.0, 0.0, 0.0, 0.0, 0.0…\n",
       "  \"332\"  => Any[Any[58.0, NaN, 58.0, 1.0, Any[1.0, 0.0, 0.0, 0.0, 0.0, 0.0, 0.0…\n",
       "  \"190\"  => Any[Any[32.0, 35.0, 33.0, 2.0, Any[1.0, 0.0, 0.0, 0.0, 0.0, 0.0, 0.…\n",
       "  \"227\"  => Any[Any[51.0, NaN, 51.0, 2.0, Any[1.0, 0.0, 0.0, 0.0, 0.0, 0.0, 0.0…\n",
       "  ⋮      => ⋮"
      ]
     },
     "metadata": {},
     "output_type": "display_data"
    }
   ],
   "source": [
    "criancas = DataFrame(XLSX.readtable(\"./dados/output.xlsx\", \"Crianças\"))\n",
    "adultos = DataFrame(XLSX.readtable(\"./dados/output.xlsx\", \"Adultos\"))\n",
    "contatos01 = JSON.parsefile(\"./dados/contatos_dia1.json\")\n",
    "contatos02 = JSON.parsefile(\"./dados/contatos_dia2.json\")"
   ]
  },
  {
   "cell_type": "code",
   "execution_count": 31,
   "metadata": {},
   "outputs": [
    {
     "data": {
      "text/plain": [
       "Dict{String, Any} with 2033 entries:\n",
       "  \"1\"    => Any[Any[49.0, NaN, 49.0, 1.0, Any[1.0, 0.0, 0.0, 0.0, 0.0, 0.0, 0.0…\n",
       "  \"519\"  => Any[Any[20.0, 30.0, 25.0, 2.0, Any[1.0, 0.0, 0.0, 0.0, 0.0, 0.0, 0.…\n",
       "  \"c395\" => Any[Any[32.0, NaN, 32.0, 1.0, Any[1.0, 0.0, 0.0, 0.0, 0.0, 0.0, 0.0…\n",
       "  \"788\"  => Any[Any[25.0, 35.0, 30.0, 1.0, Any[1.0, 0.0, 0.0, 0.0, 0.0, 0.0, 0.…\n",
       "  \"c432\" => Any[Any[25.0, 35.0, 30.0, 1.0, Any[1.0, 0.0, 0.0, 0.0, 0.0, 0.0, 0.…\n",
       "  \"1164\" => Any[Any[35.0, NaN, 35.0, 2.0, Any[1.0, 0.0, 0.0, 0.0, 0.0, 0.0, 0.0…\n",
       "  \"c466\" => Any[Any[33.0, NaN, 33.0, 1.0, Any[1.0, 0.0, 0.0, 0.0, 0.0, 0.0, 0.0…\n",
       "  \"c513\" => Any[Any[35.0, NaN, 35.0, 1.0, Any[1.0, 0.0, 0.0, 0.0, 0.0, 0.0, 0.0…\n",
       "  \"774\"  => Any[Any[65.0, NaN, 65.0, 2.0, Any[1.0, 0.0, 0.0, 0.0, 0.0, 0.0, 0.0…\n",
       "  \"c511\" => Any[Any[37.0, NaN, 37.0, 2.0, Any[1.0, 0.0, 0.0, 0.0, 0.0, 0.0, 0.0…\n",
       "  \"599\"  => Any[Any[78.0, NaN, 78.0, 1.0, Any[1.0, 0.0, 0.0, 0.0, 0.0, 0.0, 0.0…\n",
       "  \"491\"  => Any[Any[30.0, 35.0, 32.0, 1.0, Any[1.0, 0.0, 0.0, 0.0, 0.0, 0.0, 0.…\n",
       "  \"1195\" => Any[Any[2.0, NaN, 2.0, 2.0, Any[1.0, 0.0, 0.0, 0.0, 0.0, 0.0, 0.0],…\n",
       "  \"c653\" => Any[Any[40.0, NaN, 40.0, 1.0, Any[1.0, 0.0, 0.0, 0.0, 0.0, 0.0, 0.0…\n",
       "  \"c58\"  => Any[Any[51.0, NaN, 51.0, 2.0, Any[1.0, 0.0, 0.0, 0.0, 0.0, 0.0, 0.0…\n",
       "  \"228\"  => Any[Any[23.0, NaN, 23.0, 2.0, Any[1.0, 0.0, 0.0, 0.0, 0.0, 0.0, 0.0…\n",
       "  \"332\"  => Any[Any[58.0, NaN, 58.0, 1.0, Any[1.0, 0.0, 0.0, 0.0, 0.0, 0.0, 0.0…\n",
       "  \"190\"  => Any[Any[32.0, 35.0, 33.0, 2.0, Any[1.0, 0.0, 0.0, 0.0, 0.0, 0.0, 0.…\n",
       "  \"227\"  => Any[Any[51.0, NaN, 51.0, 2.0, Any[1.0, 0.0, 0.0, 0.0, 0.0, 0.0, 0.0…\n",
       "  ⋮      => ⋮"
      ]
     },
     "metadata": {},
     "output_type": "display_data"
    }
   ],
   "source": []
  },
  {
   "cell_type": "code",
   "execution_count": 33,
   "metadata": {},
   "outputs": [
    {
     "data": {
      "text/plain": [
       "2-element Vector{Any}:\n",
       " Any[68.0, NaN, 68.0, 1.0, Any[1.0, 0.0, 0.0, 0.0, 0.0, 0.0, 0.0], 1.0, 2.0, 5.0]\n",
       " Any[50.0, 60.0, 55.0, 2.0, Any[1.0, 0.0, 0.0, 0.0, 0.0, 0.0, 0.0], 2.0, 1.0, 3.0]"
      ]
     },
     "metadata": {},
     "output_type": "display_data"
    }
   ],
   "source": [
    "dict2[\"0\"]"
   ]
  },
  {
   "cell_type": "code",
   "execution_count": null,
   "metadata": {},
   "outputs": [],
   "source": []
  }
 ],
 "metadata": {
  "kernelspec": {
   "display_name": "Julia 1.8.3",
   "language": "julia",
   "name": "julia-1.8"
  },
  "language_info": {
   "file_extension": ".jl",
   "mimetype": "application/julia",
   "name": "julia",
   "version": "1.8.3"
  },
  "orig_nbformat": 4
 },
 "nbformat": 4,
 "nbformat_minor": 2
}
